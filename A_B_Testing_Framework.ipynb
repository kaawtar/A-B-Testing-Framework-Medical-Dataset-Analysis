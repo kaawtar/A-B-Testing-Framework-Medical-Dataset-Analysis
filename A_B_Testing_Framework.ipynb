{
  "nbformat": 4,
  "nbformat_minor": 0,
  "metadata": {
    "colab": {
      "provenance": []
    },
    "kernelspec": {
      "name": "python3",
      "display_name": "Python 3"
    },
    "language_info": {
      "name": "python"
    }
  },
  "cells": [
    {
      "cell_type": "code",
      "execution_count": 31,
      "metadata": {
        "id": "voDGN5YVkGB_",
        "colab": {
          "base_uri": "https://localhost:8080/",
          "height": 206
        },
        "outputId": "d8e73d2f-f280-4878-a57b-9b1860601dd8"
      },
      "outputs": [
        {
          "output_type": "execute_result",
          "data": {
            "text/plain": [
              "   ID    Med  Admin Date     Units\n",
              "0   1  Med A  02/07/2012  1,500.00\n",
              "1   1  Med A  06/07/2012  1,500.00\n",
              "2   1  Med A  09/07/2012  1,500.00\n",
              "3   1  Med A  11/07/2012  1,500.00\n",
              "4   1  Med A  13/07/2012  1,500.00"
            ],
            "text/html": [
              "\n",
              "  <div id=\"df-ba4c4d85-588e-4f66-adb0-36073e1e8114\" class=\"colab-df-container\">\n",
              "    <div>\n",
              "<style scoped>\n",
              "    .dataframe tbody tr th:only-of-type {\n",
              "        vertical-align: middle;\n",
              "    }\n",
              "\n",
              "    .dataframe tbody tr th {\n",
              "        vertical-align: top;\n",
              "    }\n",
              "\n",
              "    .dataframe thead th {\n",
              "        text-align: right;\n",
              "    }\n",
              "</style>\n",
              "<table border=\"1\" class=\"dataframe\">\n",
              "  <thead>\n",
              "    <tr style=\"text-align: right;\">\n",
              "      <th></th>\n",
              "      <th>ID</th>\n",
              "      <th>Med</th>\n",
              "      <th>Admin Date</th>\n",
              "      <th>Units</th>\n",
              "    </tr>\n",
              "  </thead>\n",
              "  <tbody>\n",
              "    <tr>\n",
              "      <th>0</th>\n",
              "      <td>1</td>\n",
              "      <td>Med A</td>\n",
              "      <td>02/07/2012</td>\n",
              "      <td>1,500.00</td>\n",
              "    </tr>\n",
              "    <tr>\n",
              "      <th>1</th>\n",
              "      <td>1</td>\n",
              "      <td>Med A</td>\n",
              "      <td>06/07/2012</td>\n",
              "      <td>1,500.00</td>\n",
              "    </tr>\n",
              "    <tr>\n",
              "      <th>2</th>\n",
              "      <td>1</td>\n",
              "      <td>Med A</td>\n",
              "      <td>09/07/2012</td>\n",
              "      <td>1,500.00</td>\n",
              "    </tr>\n",
              "    <tr>\n",
              "      <th>3</th>\n",
              "      <td>1</td>\n",
              "      <td>Med A</td>\n",
              "      <td>11/07/2012</td>\n",
              "      <td>1,500.00</td>\n",
              "    </tr>\n",
              "    <tr>\n",
              "      <th>4</th>\n",
              "      <td>1</td>\n",
              "      <td>Med A</td>\n",
              "      <td>13/07/2012</td>\n",
              "      <td>1,500.00</td>\n",
              "    </tr>\n",
              "  </tbody>\n",
              "</table>\n",
              "</div>\n",
              "    <div class=\"colab-df-buttons\">\n",
              "\n",
              "  <div class=\"colab-df-container\">\n",
              "    <button class=\"colab-df-convert\" onclick=\"convertToInteractive('df-ba4c4d85-588e-4f66-adb0-36073e1e8114')\"\n",
              "            title=\"Convert this dataframe to an interactive table.\"\n",
              "            style=\"display:none;\">\n",
              "\n",
              "  <svg xmlns=\"http://www.w3.org/2000/svg\" height=\"24px\" viewBox=\"0 -960 960 960\">\n",
              "    <path d=\"M120-120v-720h720v720H120Zm60-500h600v-160H180v160Zm220 220h160v-160H400v160Zm0 220h160v-160H400v160ZM180-400h160v-160H180v160Zm440 0h160v-160H620v160ZM180-180h160v-160H180v160Zm440 0h160v-160H620v160Z\"/>\n",
              "  </svg>\n",
              "    </button>\n",
              "\n",
              "  <style>\n",
              "    .colab-df-container {\n",
              "      display:flex;\n",
              "      gap: 12px;\n",
              "    }\n",
              "\n",
              "    .colab-df-convert {\n",
              "      background-color: #E8F0FE;\n",
              "      border: none;\n",
              "      border-radius: 50%;\n",
              "      cursor: pointer;\n",
              "      display: none;\n",
              "      fill: #1967D2;\n",
              "      height: 32px;\n",
              "      padding: 0 0 0 0;\n",
              "      width: 32px;\n",
              "    }\n",
              "\n",
              "    .colab-df-convert:hover {\n",
              "      background-color: #E2EBFA;\n",
              "      box-shadow: 0px 1px 2px rgba(60, 64, 67, 0.3), 0px 1px 3px 1px rgba(60, 64, 67, 0.15);\n",
              "      fill: #174EA6;\n",
              "    }\n",
              "\n",
              "    .colab-df-buttons div {\n",
              "      margin-bottom: 4px;\n",
              "    }\n",
              "\n",
              "    [theme=dark] .colab-df-convert {\n",
              "      background-color: #3B4455;\n",
              "      fill: #D2E3FC;\n",
              "    }\n",
              "\n",
              "    [theme=dark] .colab-df-convert:hover {\n",
              "      background-color: #434B5C;\n",
              "      box-shadow: 0px 1px 3px 1px rgba(0, 0, 0, 0.15);\n",
              "      filter: drop-shadow(0px 1px 2px rgba(0, 0, 0, 0.3));\n",
              "      fill: #FFFFFF;\n",
              "    }\n",
              "  </style>\n",
              "\n",
              "    <script>\n",
              "      const buttonEl =\n",
              "        document.querySelector('#df-ba4c4d85-588e-4f66-adb0-36073e1e8114 button.colab-df-convert');\n",
              "      buttonEl.style.display =\n",
              "        google.colab.kernel.accessAllowed ? 'block' : 'none';\n",
              "\n",
              "      async function convertToInteractive(key) {\n",
              "        const element = document.querySelector('#df-ba4c4d85-588e-4f66-adb0-36073e1e8114');\n",
              "        const dataTable =\n",
              "          await google.colab.kernel.invokeFunction('convertToInteractive',\n",
              "                                                    [key], {});\n",
              "        if (!dataTable) return;\n",
              "\n",
              "        const docLinkHtml = 'Like what you see? Visit the ' +\n",
              "          '<a target=\"_blank\" href=https://colab.research.google.com/notebooks/data_table.ipynb>data table notebook</a>'\n",
              "          + ' to learn more about interactive tables.';\n",
              "        element.innerHTML = '';\n",
              "        dataTable['output_type'] = 'display_data';\n",
              "        await google.colab.output.renderOutput(dataTable, element);\n",
              "        const docLink = document.createElement('div');\n",
              "        docLink.innerHTML = docLinkHtml;\n",
              "        element.appendChild(docLink);\n",
              "      }\n",
              "    </script>\n",
              "  </div>\n",
              "\n",
              "\n",
              "    <div id=\"df-af1d6c59-3071-4647-a6a7-ba23df244b29\">\n",
              "      <button class=\"colab-df-quickchart\" onclick=\"quickchart('df-af1d6c59-3071-4647-a6a7-ba23df244b29')\"\n",
              "                title=\"Suggest charts\"\n",
              "                style=\"display:none;\">\n",
              "\n",
              "<svg xmlns=\"http://www.w3.org/2000/svg\" height=\"24px\"viewBox=\"0 0 24 24\"\n",
              "     width=\"24px\">\n",
              "    <g>\n",
              "        <path d=\"M19 3H5c-1.1 0-2 .9-2 2v14c0 1.1.9 2 2 2h14c1.1 0 2-.9 2-2V5c0-1.1-.9-2-2-2zM9 17H7v-7h2v7zm4 0h-2V7h2v10zm4 0h-2v-4h2v4z\"/>\n",
              "    </g>\n",
              "</svg>\n",
              "      </button>\n",
              "\n",
              "<style>\n",
              "  .colab-df-quickchart {\n",
              "      --bg-color: #E8F0FE;\n",
              "      --fill-color: #1967D2;\n",
              "      --hover-bg-color: #E2EBFA;\n",
              "      --hover-fill-color: #174EA6;\n",
              "      --disabled-fill-color: #AAA;\n",
              "      --disabled-bg-color: #DDD;\n",
              "  }\n",
              "\n",
              "  [theme=dark] .colab-df-quickchart {\n",
              "      --bg-color: #3B4455;\n",
              "      --fill-color: #D2E3FC;\n",
              "      --hover-bg-color: #434B5C;\n",
              "      --hover-fill-color: #FFFFFF;\n",
              "      --disabled-bg-color: #3B4455;\n",
              "      --disabled-fill-color: #666;\n",
              "  }\n",
              "\n",
              "  .colab-df-quickchart {\n",
              "    background-color: var(--bg-color);\n",
              "    border: none;\n",
              "    border-radius: 50%;\n",
              "    cursor: pointer;\n",
              "    display: none;\n",
              "    fill: var(--fill-color);\n",
              "    height: 32px;\n",
              "    padding: 0;\n",
              "    width: 32px;\n",
              "  }\n",
              "\n",
              "  .colab-df-quickchart:hover {\n",
              "    background-color: var(--hover-bg-color);\n",
              "    box-shadow: 0 1px 2px rgba(60, 64, 67, 0.3), 0 1px 3px 1px rgba(60, 64, 67, 0.15);\n",
              "    fill: var(--button-hover-fill-color);\n",
              "  }\n",
              "\n",
              "  .colab-df-quickchart-complete:disabled,\n",
              "  .colab-df-quickchart-complete:disabled:hover {\n",
              "    background-color: var(--disabled-bg-color);\n",
              "    fill: var(--disabled-fill-color);\n",
              "    box-shadow: none;\n",
              "  }\n",
              "\n",
              "  .colab-df-spinner {\n",
              "    border: 2px solid var(--fill-color);\n",
              "    border-color: transparent;\n",
              "    border-bottom-color: var(--fill-color);\n",
              "    animation:\n",
              "      spin 1s steps(1) infinite;\n",
              "  }\n",
              "\n",
              "  @keyframes spin {\n",
              "    0% {\n",
              "      border-color: transparent;\n",
              "      border-bottom-color: var(--fill-color);\n",
              "      border-left-color: var(--fill-color);\n",
              "    }\n",
              "    20% {\n",
              "      border-color: transparent;\n",
              "      border-left-color: var(--fill-color);\n",
              "      border-top-color: var(--fill-color);\n",
              "    }\n",
              "    30% {\n",
              "      border-color: transparent;\n",
              "      border-left-color: var(--fill-color);\n",
              "      border-top-color: var(--fill-color);\n",
              "      border-right-color: var(--fill-color);\n",
              "    }\n",
              "    40% {\n",
              "      border-color: transparent;\n",
              "      border-right-color: var(--fill-color);\n",
              "      border-top-color: var(--fill-color);\n",
              "    }\n",
              "    60% {\n",
              "      border-color: transparent;\n",
              "      border-right-color: var(--fill-color);\n",
              "    }\n",
              "    80% {\n",
              "      border-color: transparent;\n",
              "      border-right-color: var(--fill-color);\n",
              "      border-bottom-color: var(--fill-color);\n",
              "    }\n",
              "    90% {\n",
              "      border-color: transparent;\n",
              "      border-bottom-color: var(--fill-color);\n",
              "    }\n",
              "  }\n",
              "</style>\n",
              "\n",
              "      <script>\n",
              "        async function quickchart(key) {\n",
              "          const quickchartButtonEl =\n",
              "            document.querySelector('#' + key + ' button');\n",
              "          quickchartButtonEl.disabled = true;  // To prevent multiple clicks.\n",
              "          quickchartButtonEl.classList.add('colab-df-spinner');\n",
              "          try {\n",
              "            const charts = await google.colab.kernel.invokeFunction(\n",
              "                'suggestCharts', [key], {});\n",
              "          } catch (error) {\n",
              "            console.error('Error during call to suggestCharts:', error);\n",
              "          }\n",
              "          quickchartButtonEl.classList.remove('colab-df-spinner');\n",
              "          quickchartButtonEl.classList.add('colab-df-quickchart-complete');\n",
              "        }\n",
              "        (() => {\n",
              "          let quickchartButtonEl =\n",
              "            document.querySelector('#df-af1d6c59-3071-4647-a6a7-ba23df244b29 button');\n",
              "          quickchartButtonEl.style.display =\n",
              "            google.colab.kernel.accessAllowed ? 'block' : 'none';\n",
              "        })();\n",
              "      </script>\n",
              "    </div>\n",
              "\n",
              "    </div>\n",
              "  </div>\n"
            ],
            "application/vnd.google.colaboratory.intrinsic+json": {
              "type": "dataframe",
              "variable_name": "df",
              "summary": "{\n  \"name\": \"df\",\n  \"rows\": 2022,\n  \"fields\": [\n    {\n      \"column\": \"ID\",\n      \"properties\": {\n        \"dtype\": \"number\",\n        \"std\": 37,\n        \"min\": 1,\n        \"max\": 129,\n        \"num_unique_values\": 129,\n        \"samples\": [\n          56,\n          41,\n          20\n        ],\n        \"semantic_type\": \"\",\n        \"description\": \"\"\n      }\n    },\n    {\n      \"column\": \"Med\",\n      \"properties\": {\n        \"dtype\": \"category\",\n        \"num_unique_values\": 2,\n        \"samples\": [\n          \"Med B\",\n          \"Med A\"\n        ],\n        \"semantic_type\": \"\",\n        \"description\": \"\"\n      }\n    },\n    {\n      \"column\": \"Admin Date\",\n      \"properties\": {\n        \"dtype\": \"category\",\n        \"num_unique_values\": 96,\n        \"samples\": [\n          \"13/10/2012\",\n          \"15/09/2012\"\n        ],\n        \"semantic_type\": \"\",\n        \"description\": \"\"\n      }\n    },\n    {\n      \"column\": \"Units\",\n      \"properties\": {\n        \"dtype\": \"category\",\n        \"num_unique_values\": 111,\n        \"samples\": [\n          \"9,000.00\",\n          \"5,700.00\"\n        ],\n        \"semantic_type\": \"\",\n        \"description\": \"\"\n      }\n    }\n  ]\n}"
            }
          },
          "metadata": {},
          "execution_count": 31
        }
      ],
      "source": [
        "import pandas as pd\n",
        "import pandas as pd\n",
        "import numpy as np\n",
        "from scipy import stats\n",
        "import statsmodels.stats.api as sms\n",
        "import matplotlib.pyplot as plt\n",
        "import seaborn as sns\n",
        "df = pd.read_csv('/content/drive/MyDrive/Admin.csv')\n",
        "df.head()\n",
        "\n"
      ]
    },
    {
      "cell_type": "code",
      "source": [
        "df.columns"
      ],
      "metadata": {
        "colab": {
          "base_uri": "https://localhost:8080/"
        },
        "id": "0SAiOx9HxJ8Q",
        "outputId": "655b12c1-68ae-4439-fbb3-604d5587fb77"
      },
      "execution_count": 32,
      "outputs": [
        {
          "output_type": "execute_result",
          "data": {
            "text/plain": [
              "Index(['ID', 'Med', 'Admin Date', 'Units'], dtype='object')"
            ]
          },
          "metadata": {},
          "execution_count": 32
        }
      ]
    },
    {
      "cell_type": "markdown",
      "source": [
        "\n",
        "1.  Data Preparation\n"
      ],
      "metadata": {
        "id": "aIAJhT4tx_Kx"
      }
    },
    {
      "cell_type": "code",
      "source": [
        "\n",
        "df['Units'] = df['Units'].str.replace(',', '', regex=True).astype(float)\n",
        "df['group'] = df['Med'].map({'Med A':'A', 'Med B':'B'})\n",
        "df = df.drop_duplicates(subset=['ID', 'group', 'Admin Date'])\n",
        "np.random.seed(42)\n",
        "df['improvement'] = np.random.choice([0,1], size=len(df))\n",
        "\n"
      ],
      "metadata": {
        "id": "PWJRZFjxwrfU"
      },
      "execution_count": 33,
      "outputs": []
    },
    {
      "cell_type": "markdown",
      "source": [
        "2.  Descriptive Statistics"
      ],
      "metadata": {
        "id": "lRk22ViOyc6O"
      }
    },
    {
      "cell_type": "code",
      "source": [
        "dose_count = df.groupby('ID')['Units'].transform('count')\n",
        "df['Units_per_dose'] = df['Units'] / dose_count\n",
        "\n",
        "group_a_cont = df[df['group']=='A']['Units_per_dose']\n",
        "group_b_cont = df[df['group']=='B']['Units_per_dose']\n",
        "\n",
        "group_a_bin = df[df['group']=='A']['improvement']\n",
        "group_b_bin = df[df['group']=='B']['improvement']\n",
        "\n",
        "def descriptive_stats(group, metric_type='continuous'):\n",
        "    if metric_type=='continuous':\n",
        "        return {'mean': group.mean(), 'std': group.std(), 'n': len(group)}\n",
        "    else:\n",
        "        return {'proportion': group.mean(), 'n': len(group)}\n",
        "\n",
        "print(\"Group A (continuous):\", descriptive_stats(group_a_cont))\n",
        "print(\"Group B (continuous):\", descriptive_stats(group_b_cont))\n",
        "print(\"Group A (binary):\", descriptive_stats(group_a_bin, 'binary'))\n",
        "print(\"Group B (binary):\", descriptive_stats(group_b_bin, 'binary'))\n"
      ],
      "metadata": {
        "colab": {
          "base_uri": "https://localhost:8080/"
        },
        "id": "1Kr3qazmxjkc",
        "outputId": "d304ed5e-15cf-43be-833f-253766d0af2b"
      },
      "execution_count": 34,
      "outputs": [
        {
          "output_type": "stream",
          "name": "stdout",
          "text": [
            "Group A (continuous): {'mean': np.float64(302.5537233044628), 'std': 655.6655610817788, 'n': 1802}\n",
            "Group B (continuous): {'mean': np.float64(0.6022198386308246), 'std': 0.992536107199303, 'n': 219}\n",
            "Group A (binary): {'proportion': np.float64(0.4972253052164262), 'n': 1802}\n",
            "Group B (binary): {'proportion': np.float64(0.4520547945205479), 'n': 219}\n"
          ]
        }
      ]
    },
    {
      "cell_type": "markdown",
      "source": [
        "For the continuous metric Units_per_dose, Group A shows a mean of 302.55 with a standard deviation of 655.67 (n = 1802), whereas Group B has a much lower mean of 0.60 and a smaller standard deviation of 0.99 (n = 219). This large discrepancy indicates that the two groups are measured on very different scales, and any direct comparison should be interpreted cautiously. Regarding the binary outcome improvement, Group A has an improvement proportion of 49.7%, compared to 45.2% in Group B. The observed difference between groups is relatively small, suggesting that the effect of the treatment on improvement may not be substantial, and a formal statistical test is required to determine if this difference is statistically significant rather than due to random variation"
      ],
      "metadata": {
        "id": "eshCW6TbAKsB"
      }
    },
    {
      "cell_type": "markdown",
      "source": [
        "3. Hypothesis Testing"
      ],
      "metadata": {
        "id": "6dZB4HgF-Hgx"
      }
    },
    {
      "cell_type": "code",
      "source": [
        "from scipy import stats\n",
        "t_stat, p_val_cont = stats.ttest_ind(group_a_cont, group_b_cont)\n",
        "print(f\"T-test (Units): t={t_stat:.2f}, p={p_val_cont:.4f}\")\n",
        "contingency = pd.crosstab(df['group'], df['improvement'])\n",
        "chi2, p_val_bin, dof, expected = stats.chi2_contingency(contingency)\n",
        "print(f\"Chi-square (improvement): chi2={chi2:.2f}, p={p_val_bin:.4f}\")\n",
        "\n"
      ],
      "metadata": {
        "colab": {
          "base_uri": "https://localhost:8080/"
        },
        "id": "34VU-Od0xtkN",
        "outputId": "14e65602-8ee9-47bf-b7df-c7cca6eff580"
      },
      "execution_count": 35,
      "outputs": [
        {
          "output_type": "stream",
          "name": "stdout",
          "text": [
            "T-test (Units): t=6.81, p=0.0000\n",
            "Chi-square (improvement): chi2=1.42, p=0.2337\n"
          ]
        }
      ]
    },
    {
      "cell_type": "markdown",
      "source": [
        "The t-test for Units_per_dose shows a significant difference between Group A and Group B (t = 6.81, p < 0.001), indicating higher dosages in Group A. In contrast, the Chi-square test for improvement (χ² = 1.42, p = 0.234) suggests no statistically significant difference in improvement rates between the groups, implying that the treatment in Group B does not outperform Group A."
      ],
      "metadata": {
        "id": "rVBSLx-6AYrJ"
      }
    },
    {
      "cell_type": "markdown",
      "source": [
        "4.  Confidence Intervals & Effect Size"
      ],
      "metadata": {
        "id": "1hCWTPeazo3I"
      }
    },
    {
      "cell_type": "code",
      "source": [
        "import statsmodels.stats.api as sms\n",
        "def cohen_d(x, y):\n",
        "    nx = len(x)\n",
        "    ny = len(y)\n",
        "    pooled_std = np.sqrt(((nx-1)*np.std(x, ddof=1)**2 + (ny-1)*np.std(y, ddof=1)**2)/(nx+ny-2))\n",
        "    return (np.mean(x) - np.mean(y)) / pooled_std\n",
        "\n",
        "d_cont = cohen_d(group_a_cont, group_b_cont)\n",
        "print(\"Cohen's d (Units):\", d_cont)\n",
        "diff_mean = group_a_cont.mean() - group_b_cont.mean()\n",
        "se_diff = np.sqrt(group_a_cont.std()**2/len(group_a_cont) + group_b_cont.std()**2/len(group_b_cont))\n",
        "ci_lower = diff_mean - 1.96*se_diff\n",
        "ci_upper = diff_mean + 1.96*se_diff\n",
        "print(f\"95% CI (Units): ({ci_lower:.2f}, {ci_upper:.2f})\")\n",
        "conf_int_bin = sms.proportion_confint(count=[group_a_bin.sum(), group_b_bin.sum()],\n",
        "                                      nobs=[len(group_a_bin), len(group_b_bin)])\n",
        "print(\"95% CI (improvement):\", conf_int_bin)\n"
      ],
      "metadata": {
        "colab": {
          "base_uri": "https://localhost:8080/"
        },
        "id": "X6tETonnzIdN",
        "outputId": "793ff562-59bb-4bb3-d749-ec591a4097d8"
      },
      "execution_count": 36,
      "outputs": [
        {
          "output_type": "stream",
          "name": "stdout",
          "text": [
            "Cohen's d (Units): 0.48760266018930265\n",
            "95% CI (Units): (271.68, 332.23)\n",
            "95% CI (improvement): (array([0.47414009, 0.3861389 ]), array([0.52031053, 0.51797069]))\n"
          ]
        }
      ]
    },
    {
      "cell_type": "markdown",
      "source": [
        "The t-test for Units_per_dose indicates a significant difference between Group A and Group B (t = 6.81, p < 0.001), with a moderate effect size (Cohen’s d = 0.49) and a 95% confidence interval for the mean difference of 271.68 to 332.23. For the binary outcome improvement, the Chi-square test (χ² = 1.42, p = 0.234) shows no statistically significant difference, and the 95% confidence intervals for improvement rates are 47.4–52.0% for Group A and 38.6–51.8% for Group B, suggesting substantial overlap and no clear advantage of Group B over Group A."
      ],
      "metadata": {
        "id": "HU9GJchsAh5l"
      }
    },
    {
      "cell_type": "markdown",
      "source": [
        "5. Decision Making"
      ],
      "metadata": {
        "id": "tTOGEQ6fz9Ak"
      }
    },
    {
      "cell_type": "code",
      "source": [
        "alpha = 0.05\n",
        "if p_val_cont < alpha:\n",
        "    print(\"Units: Significant difference detected between groups\")\n",
        "else:\n",
        "    print(\"Units: No significant difference\")\n",
        "if p_val_bin < alpha:\n",
        "    print(\"Improvement: Significant difference detected between groups\")\n",
        "else:\n",
        "    print(\"Improvement: No significant difference\")\n"
      ],
      "metadata": {
        "colab": {
          "base_uri": "https://localhost:8080/"
        },
        "id": "k9-_n0wNz5Q5",
        "outputId": "7039c935-6fe5-46ac-d899-ad973caf222b"
      },
      "execution_count": 37,
      "outputs": [
        {
          "output_type": "stream",
          "name": "stdout",
          "text": [
            "Units: Significant difference detected between groups\n",
            "Improvement: No significant difference\n"
          ]
        }
      ]
    },
    {
      "cell_type": "markdown",
      "source": [
        "6. Visualization"
      ],
      "metadata": {
        "id": "C2j-cWNS_yFU"
      }
    },
    {
      "cell_type": "code",
      "source": [
        "import matplotlib.pyplot as plt\n",
        "import seaborn as sns\n",
        "sns.boxplot(x='group', y='Units_per_dose', data=df)\n",
        "plt.title(\"Units per Dose by Group\")\n",
        "plt.show()\n",
        "conv_rate = df.groupby('group')['improvement'].mean().reset_index()\n",
        "sns.barplot(x='group', y='improvement', data=conv_rate)\n",
        "plt.title(\"Improvement Rate by Group\")\n",
        "plt.ylabel(\"Proportion Improved\")\n",
        "plt.show()\n"
      ],
      "metadata": {
        "colab": {
          "base_uri": "https://localhost:8080/",
          "height": 927
        },
        "id": "Zz3828u-5OZL",
        "outputId": "a20ff78e-c13d-42ee-e9df-0c27092ee552"
      },
      "execution_count": 38,
      "outputs": [
        {
          "output_type": "display_data",
          "data": {
            "text/plain": [
              "<Figure size 640x480 with 1 Axes>"
            ],
            "image/png": "[encoded data removed]"
          },
          "metadata": {}
        },
        {
          "output_type": "display_data",
          "data": {
            "text/plain": [
              "<Figure size 640x480 with 1 Axes>"
            ],
            "image/png": "[encoded data removed]"
          },
          "metadata": {}
        }
      ]
    },
    {
      "cell_type": "markdown",
      "source": [
        "In this A/B testing analysis, the continuous metric Units_per_dose shows a statistically significant difference between Group A and Group B (t = 6.81, p < 0.001), with a moderate effect size (Cohen’s d = 0.49) and a 95% confidence interval of 271.68–332.23. This indicates that Group A received substantially higher dosages than Group B, which may have practical implications for treatment administration or resource allocation. In contrast, the binary outcome improvement did not show a significant difference between groups (χ² = 1.42, p = 0.234), with overlapping 95% confidence intervals (Group A: 47.4–52.0%, Group B: 38.6–51.8%), suggesting that the treatment in Group B does not confer a clear advantage. Overall, while dosage differs meaningfully between groups, there is no evidence that it translates into improved patient outcomes, highlighting the need for further investigation through subgroup analyses, longer observation periods, or dosage adjustments."
      ],
      "metadata": {
        "id": "KgH0gQP6BDhL"
      }
    }
  ]
}